{
 "cells": [
  {
   "cell_type": "markdown",
   "metadata": {},
   "source": [
    "## Question 1"
   ]
  },
  {
   "cell_type": "code",
   "execution_count": 19,
   "metadata": {},
   "outputs": [
    {
     "name": "stdout",
     "output_type": "stream",
     "text": [
      "8\n"
     ]
    }
   ],
   "source": [
    "#First the list is initialized. The NA's are changed to strings, because python is not happy with just the characters.\n",
    "rooms = [1, 2, 1, 3, 1, \"NA\", 3, 1, 3, 2, 1, \"NA\", 1, 8, 3, 1, 4, \"NA\", 1, 3, 1, 2, 1, 7, 1, \"NA\"]\n",
    "\n",
    "#This rather weird syntax allows us to define a new list with a certain condition.\n",
    "#There are alot of room(s) in the statement, but i am basically saying:\n",
    "#If each room in the list is not \"NA\", let it stay room, but if it's \"NA\" remove it. \n",
    "#This gives me a \"clean\" list with just numbers (rooms)\n",
    "clean_list_of_rooms = [room for room in rooms if room != \"NA\"]\n",
    "\n",
    "#I initialize a counter-variable and increment it by 1 if the room is over 2. \n",
    "room_counter = 0\n",
    "for room in clean_list_of_rooms:\n",
    "    if room > 2:\n",
    "        room_counter += 1\n",
    "\n",
    "print(room_counter)"
   ]
  },
  {
   "cell_type": "markdown",
   "metadata": {},
   "source": [
    "## Question 2"
   ]
  },
  {
   "cell_type": "code",
   "execution_count": 18,
   "metadata": {},
   "outputs": [
    {
     "name": "stdout",
     "output_type": "stream",
     "text": [
      "1.5\n"
     ]
    }
   ],
   "source": [
    "#In python, the median-function can be found inside the statistics library, so i start by importing that.\n",
    "import statistics\n",
    "\n",
    "#I can then call median() on the statistics object and get the following answer (1.5).\n",
    "print(statistics.median(clean_list_of_rooms))"
   ]
  },
  {
   "cell_type": "markdown",
   "metadata": {},
   "source": [
    "## Question 3"
   ]
  },
  {
   "cell_type": "code",
   "execution_count": null,
   "metadata": {},
   "outputs": [],
   "source": [
    "#A well known library for working with files is pandas, so i import that as pd, so i wont have to write pandas\n",
    "#everytime i use a function. \n",
    "import pandas as pd\n",
    "\n",
    "#The SAFI_clean.csv file can be found and downloaded via a certain link, so i save the URL of that link into a variable.\n",
    "SAFI_clean_url = \"https://ndownloader.figshare.com/files/11492171\"\n",
    "\n",
    "#I do that because pandas read_csv function can take an url as an argument and retrieve the file fom the internet. \n",
    "\n",
    "#The following line of code reads the CSV-file via the url. \n",
    "#To see the headers of the file, i use nrows=1 to get just 1 row of data, and then i get all columns with .columns.\n",
    "interviews = pd.read_csv(SAFI_clean_url, nrows=1).columns\n",
    "\n",
    "#As the headers are now saved into interviews and i can thus print the headers to see if the data is correct. \n",
    "#I can always change the line to get the entire files or other parts of the file than the columns. \n",
    "print(interviews)"
   ]
  },
  {
   "cell_type": "code",
   "execution_count": null,
   "metadata": {},
   "outputs": [],
   "source": []
  }
 ],
 "metadata": {
  "kernelspec": {
   "display_name": "Python 3",
   "language": "python",
   "name": "python3"
  },
  "language_info": {
   "codemirror_mode": {
    "name": "ipython",
    "version": 3
   },
   "file_extension": ".py",
   "mimetype": "text/x-python",
   "name": "python",
   "nbconvert_exporter": "python",
   "pygments_lexer": "ipython3",
   "version": "3.8.0"
  }
 },
 "nbformat": 4,
 "nbformat_minor": 4
}
